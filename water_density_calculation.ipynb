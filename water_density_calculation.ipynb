{
 "cells": [
  {
   "cell_type": "code",
   "execution_count": 1,
   "id": "f9230953",
   "metadata": {},
   "outputs": [],
   "source": [
    "import MDAnalysis as mda\n",
    "import numpy as np\n",
    "import matplotlib.pyplot as plt\n",
    "import sys,os\n",
    "import math\n",
    "\n",
    "from tqdm.autonotebook import tqdm as tq\n",
    "import torch\n",
    "from gridData import OpenDX\n",
    "from MDAnalysis.analysis import align\n",
    "from MDAnalysis.analysis.rms import rmsd\n",
    "#from MDAnalysis import transformations as trans\n",
    "from MDAnalysis.transformations import translate\n",
    "from scipy.interpolate import griddata\n",
    "from sklearn.decomposition import PCA\n",
    "from scipy.stats import pearsonr\n",
    "import psutil"
   ]
  },
  {
   "cell_type": "code",
   "execution_count": 2,
   "id": "884271e3",
   "metadata": {},
   "outputs": [],
   "source": [
    "###Again, the following two lines can be selectively ignored\n",
    "p = psutil.Process(os.getpid())\n",
    "p.cpu_affinity(list(range(16)))\n",
    "###Select the GPU ID used for calculation\n",
    "device1 = torch.device(\"cuda:0\")\n",
    "def write_pdb(name, coordinate):\n",
    "    pdb = open(name, 'w')\n",
    "    counter = 1\n",
    "    for i in coordinate:\n",
    "        pdb.write('ATOM  %5d  OH2 PTH     1    %8.3f%8.3f%8.3f%6.2f%6.2f\\n'%(counter,i[0],i[1],i[2],0.0,0.0))\n",
    "    return"
   ]
  },
  {
   "cell_type": "code",
   "execution_count": 3,
   "id": "38c46605",
   "metadata": {},
   "outputs": [
    {
     "name": "stderr",
     "output_type": "stream",
     "text": [
      "/usr/local/anaconda3/envs/RCs/lib/python3.8/site-packages/MDAnalysis/topology/PDBParser.py:328: UserWarning: Element information is missing, elements attribute will not be populated. If needed these can be guessed using MDAnalysis.topology.guessers.\n",
      "  warnings.warn(\"Element information is missing, elements attribute \"\n",
      "/usr/local/anaconda3/envs/RCs/lib/python3.8/site-packages/MDAnalysis/coordinates/DCD.py:165: DeprecationWarning: DCDReader currently makes independent timesteps by copying self.ts while other readers update self.ts inplace. This behavior will be changed in 3.0 to be the same as other readers. Read more at https://github.com/MDAnalysis/mdanalysis/issues/3889 to learn if this change in behavior might affect you.\n",
      "  warnings.warn(\"DCDReader currently makes independent timesteps\"\n"
     ]
    }
   ],
   "source": [
    "###read in aligned_copied_water_traj\n",
    "u_aligned = mda.Universe('copied_pdbs/pdbs/expanded_0000.pdb', \n",
    "                         'copied_pdbs/1jwp_oh2_copied_aligned.dcd')\n",
    "\n",
    "###Origin Traj is needed for dimensions\n",
    "\n",
    "u = mda.Universe('trajectory/1jwp_noh.pdb', \n",
    "                 'trajectory/1jwp_noh.dcd')\n",
    "# Read the dimension\n",
    "dim_float = u.trajectory.ts.dimensions[0]\n",
    "\n",
    "# Round up to the next integer\n",
    "dim_rounded = math.ceil(dim_float)\n",
    "\n",
    "# If the rounded dimension is odd, add 1 to make it even\n",
    "if dim_rounded % 2 != 0:\n",
    "    dim_rounded += 1\n",
    "\n",
    "dim = dim_rounded\n",
    "\n",
    "###Define Grid Box1\n",
    "protein_box = np.array([dim, dim, dim]) \n",
    "# Define the resolution of the grid box\n",
    "resolution = 1  # in Angstroms\n",
    "\n",
    "# Determine the number of grid points along each axis\n",
    "n_points = np.ceil(protein_box / resolution).astype(int)\n",
    "\n",
    "# Determine the box dimensions of the grid box\n",
    "grid_box = n_points * resolution\n",
    "\n",
    "# Define the coordinates of the grid points\n",
    "x_coords = np.linspace(-grid_box[0]/2, grid_box[0]/2, n_points[0])\n",
    "y_coords = np.linspace(-grid_box[1]/2, grid_box[1]/2, n_points[1])\n",
    "z_coords = np.linspace(-grid_box[2]/2, grid_box[2]/2, n_points[2])\n",
    "\n",
    "# Create a 3D grid of the coordinates\n",
    "xx, yy, zz = np.meshgrid(x_coords, y_coords, z_coords, indexing='ij')\n",
    "\n",
    "grid_coords = np.stack((xx,yy,zz), axis=-1)\n",
    "num_grids = np.prod(n_points)\n",
    "grid_coords1 = grid_coords.reshape((num_grids), 3)\n",
    "\n",
    "# Define the reolution of the grid box2\n",
    "resolution2 = 2  # in Angstroms\n",
    "\n",
    "# Determine the number of grid points along each axis\n",
    "n_points2 = np.ceil(protein_box / resolution2).astype(int)\n",
    "\n",
    "# Determine the box dimensions of the grid box\n",
    "grid_box2 = n_points2 * resolution2\n",
    "\n",
    "# Define the coordinates of the grid points\n",
    "x_coords2 = np.linspace(-grid_box2[0]/2, grid_box2[0]/2, n_points2[0])\n",
    "y_coords2 = np.linspace(-grid_box2[1]/2, grid_box2[1]/2, n_points2[1])\n",
    "z_coords2 = np.linspace(-grid_box2[2]/2, grid_box2[2]/2, n_points2[2])\n",
    "\n",
    "# Create a 3D grid of the coordinates\n",
    "xx2, yy2, zz2 = np.meshgrid(x_coords2, y_coords2, z_coords2, indexing='ij')\n",
    "\n",
    "grid_coords2 = np.stack((xx2,yy2,zz2), axis=-1)\n",
    "num_grids2 = np.prod(n_points2)\n",
    "grid_coords2 = grid_coords2.reshape((num_grids2), 3)"
   ]
  },
  {
   "cell_type": "code",
   "execution_count": 4,
   "id": "2192e965",
   "metadata": {},
   "outputs": [
    {
     "data": {
      "application/vnd.jupyter.widget-view+json": {
       "model_id": "1478b65cd7524234abfb659d7c6bfc99",
       "version_major": 2,
       "version_minor": 0
      },
      "text/plain": [
       "  0%|          | 0/3205 [00:00<?, ?it/s]"
      ]
     },
     "metadata": {},
     "output_type": "display_data"
    }
   ],
   "source": [
    "###Generate corners of the high-resolution grid box for inbox water selection\n",
    "X_coords, Y_coords, Z_coords = zip(*grid_coords1)\n",
    "min_X, max_X = min(X_coords), max(X_coords)\n",
    "min_Y, max_Y = min(Y_coords), max(Y_coords)\n",
    "min_Z, max_Z = min(Z_coords), max(Z_coords)\n",
    "ow_within_cube = u_aligned.select_atoms('name OH2 and prop x > {min_X} and prop x < {max_X} and prop y > {min_Y} and prop y < {max_Y} and prop z > {min_Z} and prop z < {max_Z}'.format(min_X = min_X, max_X = max_X, min_Y = min_Y, max_Y = max_Y, min_Z = min_Z, max_Z = max_Z), updating=True)\n",
    "ow_within_cube_coords = [ow_within_cube.positions for ts in tq(u_aligned.trajectory)]\n",
    "\n",
    "###Gaussian Convolution fxn\n",
    "def Gaussian_convolution(e,d,r):\n",
    "    g = ((2 * torch.pi * (e ** 2)) ** (-1 * d / 2)) * torch.exp(-1 * torch.square(r.to(device1)) / (2 * (e ** 2) ))\n",
    "    return g\n",
    "\n"
   ]
  },
  {
   "cell_type": "code",
   "execution_count": 6,
   "id": "462bd3de",
   "metadata": {
    "collapsed": true
   },
   "outputs": [
    {
     "data": {
      "application/vnd.jupyter.widget-view+json": {
       "model_id": "4527321564a24389bb7b2f732990f0c3",
       "version_major": 2,
       "version_minor": 0
      },
      "text/plain": [
       "  0%|          | 0/3205 [00:00<?, ?it/s]"
      ]
     },
     "metadata": {},
     "output_type": "display_data"
    },
    {
     "ename": "KeyboardInterrupt",
     "evalue": "",
     "output_type": "error",
     "traceback": [
      "\u001b[0;31m---------------------------------------------------------------------------\u001b[0m",
      "\u001b[0;31mKeyboardInterrupt\u001b[0m                         Traceback (most recent call last)",
      "Cell \u001b[0;32mIn[6], line 20\u001b[0m\n\u001b[1;32m     18\u001b[0m Gaussian \u001b[38;5;241m=\u001b[39m Gaussian_convolution(\u001b[38;5;241m1.7682\u001b[39m, \u001b[38;5;241m3\u001b[39m, dist)\n\u001b[1;32m     19\u001b[0m Grid_density \u001b[38;5;241m=\u001b[39m torch\u001b[38;5;241m.\u001b[39msum(Gaussian, \u001b[38;5;241m1\u001b[39m)\n\u001b[0;32m---> 20\u001b[0m Grid_density_np \u001b[38;5;241m=\u001b[39m \u001b[43mGrid_density\u001b[49m\u001b[38;5;241;43m.\u001b[39;49m\u001b[43mcpu\u001b[49m\u001b[43m(\u001b[49m\u001b[43m)\u001b[49m\u001b[38;5;241m.\u001b[39mnumpy()\n\u001b[1;32m     21\u001b[0m \u001b[38;5;28;01mdel\u001b[39;00m dist\n\u001b[1;32m     22\u001b[0m \u001b[38;5;28;01mdel\u001b[39;00m Grid_Coordinates_torch\n",
      "\u001b[0;31mKeyboardInterrupt\u001b[0m: "
     ]
    }
   ],
   "source": [
    "###Here, the split number is used for spliting the large grid box into multiple small grib boxes. Because the Grid box under 1 angstrom usually has a very high dimension, which will lead to heavy computational cost. Our suggestion is to separate into 2^n number of small grid boxes, since in our codes definition the grid box dimension is always even.\n",
    "split_number = 43 \n",
    "Grid_Coords_Split = np.split(grid_coords1, split_number)\n",
    "\n",
    "Density_map = []\n",
    "Density_map_2A = []\n",
    "Delta = np.array([2., 2., 2.])\n",
    "Origin = np.array([min_X, min_Y, min_Z])\n",
    "#for i in tq(range(len(ow_within_cube_coords))):\n",
    "for i in tq(range(len(u_aligned.trajectory))):\n",
    "    ow_coords_i = ow_within_cube_coords[i]\n",
    "    inside_waters_torch = torch.from_numpy(ow_coords_i).to(torch.float16).to(device1)\n",
    "    Water_Density = np.array([0,0,0])\n",
    "    for j in range(43):\n",
    "        Density_new = 0\n",
    "        Grid_Coordinates_torch = torch.from_numpy(Grid_Coords_Split[j]).to(torch.float16).to(device1)\n",
    "        dist = torch.cdist(Grid_Coordinates_torch.float(), inside_waters_torch.float())\n",
    "        Gaussian = Gaussian_convolution(1.7682, 3, dist)\n",
    "        Grid_density = torch.sum(Gaussian, 1)\n",
    "        Grid_density_np = Grid_density.cpu().numpy()\n",
    "        del dist\n",
    "        del Grid_Coordinates_torch\n",
    "        del Gaussian\n",
    "        del Grid_density\n",
    "        Water_Density = np.concatenate((Water_Density, Grid_density_np), axis = 0)\n",
    "    Water_Density = Water_Density[3:]\n",
    "    del inside_waters_torch\n",
    "    #interpolator = RegularGridInterpolator(grid_coords1, Water_Density)\n",
    "    #density_map_2A = interpolator(grid_coords2)\n",
    "    density_map_2A = griddata(points=grid_coords1, values=Water_Density, xi=grid_coords2, method='nearest')\n",
    "    Density_map_2A.append(density_map_2A)\n",
    "    Density_map.append(Water_Density)\n",
    "    Grid_Density_rs = density_map_2A.reshape(43,43,43)\n",
    "    #Water_Density_rs = Water_Density.reshape(92, 92, 92)\n",
    "    dx = OpenDX.field('density')\n",
    "    dx.add('positions', OpenDX.gridpositions(1, Grid_Density_rs.shape, Origin, Delta))\n",
    "    dx.add('connections', OpenDX.gridconnections(2, Grid_Density_rs.shape))\n",
    "    dx.add('data', OpenDX.array(3, Grid_Density_rs))\n",
    "    dx.write('water_density_maps/{:04d}.dx'.format(i))\n",
    "    "
   ]
  },
  {
   "cell_type": "code",
   "execution_count": null,
   "id": "8bb1cd7f",
   "metadata": {},
   "outputs": [],
   "source": []
  }
 ],
 "metadata": {
  "kernelspec": {
   "display_name": "Python 3 (ipykernel)",
   "language": "python",
   "name": "python3"
  },
  "language_info": {
   "codemirror_mode": {
    "name": "ipython",
    "version": 3
   },
   "file_extension": ".py",
   "mimetype": "text/x-python",
   "name": "python",
   "nbconvert_exporter": "python",
   "pygments_lexer": "ipython3",
   "version": "3.8.16"
  }
 },
 "nbformat": 4,
 "nbformat_minor": 5
}
