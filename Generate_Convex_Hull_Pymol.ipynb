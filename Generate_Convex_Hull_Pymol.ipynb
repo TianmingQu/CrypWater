{
 "cells": [
  {
   "cell_type": "code",
   "execution_count": 10,
   "id": "1ce37ef3",
   "metadata": {},
   "outputs": [],
   "source": [
    "import numpy as np\n",
    "from scipy.spatial import ConvexHull\n",
    "import MDAnalysis as mda\n",
    "\n",
    "\n",
    "u = mda.Universe('trajectory/1jwp_noh.pdb')\n",
    "selected_atoms = u.select_atoms('name CA and (resid 236 to 237 or resid 215 to 224 or resid 242 to 245 or resid 268 to 284)')\n",
    "# Get the positions of the selected atoms\n",
    "points = selected_atoms.positions\n",
    "\n",
    "# Calculate the convex hull\n",
    "hull = ConvexHull(points)"
   ]
  },
  {
   "cell_type": "code",
   "execution_count": 11,
   "id": "86ffece3",
   "metadata": {},
   "outputs": [],
   "source": [
    "# Extract vertices and faces\n",
    "vertices = points[hull.vertices]\n",
    "faces = hull.simplices"
   ]
  },
  {
   "cell_type": "code",
   "execution_count": 7,
   "id": "2a3655fd",
   "metadata": {},
   "outputs": [],
   "source": [
    "def export_for_pymol(points, faces, filename='convex_hull_open.pml', transparency=0.5, line_width=2.0):\n",
    "    with open(filename, 'w') as file:\n",
    "        # Write the header for the PyMOL script\n",
    "        file.write(\"from pymol.cgo import *\\nfrom pymol import cmd\\n\\n\")\n",
    "        # Set color to black for the edges\n",
    "        black = [\"COLOR\", 0.0, 0.0, 0.0]  # RGB color for black\n",
    "        # Initialize the obj list with BEGIN statement for TRIANGLES\n",
    "        obj = []\n",
    "\n",
    "        # Iterate over each face to add vertices to the obj list\n",
    "        for face in faces:\n",
    "            obj.append(\"BEGIN\")\n",
    "            obj.append(\"TRIANGLES\")\n",
    "            obj.extend([\"ALPHA\", transparency])\n",
    "            for vertex in face:\n",
    "                x, y, z = points[vertex]\n",
    "                obj.extend([\"VERTEX\", x, y, z])\n",
    "            obj.append(\"END\") \n",
    "            obj.append(\"BEGIN\")\n",
    "            obj.append(\"LINES\")\n",
    "            for i in range(len(face)):\n",
    "                # Get the current vertex and the next vertex to form an edge\n",
    "                start_vertex = points[face[i]]\n",
    "                end_vertex = points[face[(i + 1) % len(face)]]  # Wrap around to the first vertex\n",
    "                obj.extend([\"VERTEX\", start_vertex[0], start_vertex[1], start_vertex[2]])\n",
    "                obj.extend([\"VERTEX\", end_vertex[0], end_vertex[1], end_vertex[2]])\n",
    "            obj.append(\"END\")\n",
    "\n",
    "        # Convert obj list to a string representation for PyMOL script\n",
    "        obj_str = ', '.join([str(item) if isinstance(item, int) else f\"{item}\" for item in obj])\n",
    "        \n",
    "        # Write the obj definition to the file\n",
    "        file.write(f\"obj = [{obj_str}]\\n\")\n",
    "        \n",
    "        # Include the command to load the CGO object into PyMOL\n",
    "        file.write(\"cmd.load_cgo(obj, 'convex_hull')\\n\")\n",
    "\n",
    "# Use the function to generate a PyMOL script, using original points and faces\n",
    "export_for_pymol(points, faces)\n"
   ]
  },
  {
   "cell_type": "code",
   "execution_count": 12,
   "id": "eccda40d",
   "metadata": {},
   "outputs": [],
   "source": [
    "def export_for_chimerax(points, hull, filename='convex_hull_open.obj'):\n",
    "    with open(filename, 'w') as file:\n",
    "        # Write vertices to the file\n",
    "        for vertex in hull.points:\n",
    "            file.write(f\"v {vertex[0]} {vertex[1]} {vertex[2]}\\n\")\n",
    "        \n",
    "        # Write faces to the file\n",
    "        for simplex in hull.simplices:\n",
    "            # OBJ file indices are 1-based, not 0-based and here we reference the hull vertices\n",
    "            file.write(f\"f {simplex[0] + 1} {simplex[1] + 1} {simplex[2] + 1}\\n\")\n",
    "\n",
    "# Use the function to generate an OBJ file, using hull points and simplices\n",
    "export_for_chimerax(hull.points, hull)"
   ]
  },
  {
   "cell_type": "code",
   "execution_count": null,
   "id": "a975c2f1",
   "metadata": {},
   "outputs": [],
   "source": []
  }
 ],
 "metadata": {
  "kernelspec": {
   "display_name": "Python 3 (ipykernel)",
   "language": "python",
   "name": "python3"
  },
  "language_info": {
   "codemirror_mode": {
    "name": "ipython",
    "version": 3
   },
   "file_extension": ".py",
   "mimetype": "text/x-python",
   "name": "python",
   "nbconvert_exporter": "python",
   "pygments_lexer": "ipython3",
   "version": "3.8.16"
  }
 },
 "nbformat": 4,
 "nbformat_minor": 5
}
